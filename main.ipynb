{
 "cells": [
  {
   "cell_type": "markdown",
   "metadata": {},
   "source": [
    "# Data Importing"
   ]
  },
  {
   "cell_type": "code",
   "execution_count": 3,
   "metadata": {},
   "outputs": [
    {
     "data": {
      "text/html": [
       "<div>\n",
       "<style scoped>\n",
       "    .dataframe tbody tr th:only-of-type {\n",
       "        vertical-align: middle;\n",
       "    }\n",
       "\n",
       "    .dataframe tbody tr th {\n",
       "        vertical-align: top;\n",
       "    }\n",
       "\n",
       "    .dataframe thead th {\n",
       "        text-align: right;\n",
       "    }\n",
       "</style>\n",
       "<table border=\"1\" class=\"dataframe\">\n",
       "  <thead>\n",
       "    <tr style=\"text-align: right;\">\n",
       "      <th></th>\n",
       "      <th>Name</th>\n",
       "      <th>Year</th>\n",
       "      <th>Programming Languages</th>\n",
       "      <th>Certifications</th>\n",
       "      <th>Project Count</th>\n",
       "      <th>Extracurricular Activities</th>\n",
       "      <th>Career Interest</th>\n",
       "      <th>Bio</th>\n",
       "      <th>Cluster</th>\n",
       "    </tr>\n",
       "  </thead>\n",
       "  <tbody>\n",
       "    <tr>\n",
       "      <th>0</th>\n",
       "      <td>Laila Mansour</td>\n",
       "      <td>2</td>\n",
       "      <td>Python; R; SQL</td>\n",
       "      <td>Data Science Professional Certificate (IBM)</td>\n",
       "      <td>4</td>\n",
       "      <td>AI Club Mentor</td>\n",
       "      <td>Data Scientist</td>\n",
       "      <td>Laila has always been fascinated by the patter...</td>\n",
       "      <td>1</td>\n",
       "    </tr>\n",
       "    <tr>\n",
       "      <th>1</th>\n",
       "      <td>Omar Al-Hassan</td>\n",
       "      <td>4</td>\n",
       "      <td>Java; C++; HTML</td>\n",
       "      <td>CompTIA Security+</td>\n",
       "      <td>5</td>\n",
       "      <td>Cybersecurity Competition Participant</td>\n",
       "      <td>Cybersecurity Analyst</td>\n",
       "      <td>A forth-year student at Princess Sumaya Univer...</td>\n",
       "      <td>2</td>\n",
       "    </tr>\n",
       "    <tr>\n",
       "      <th>2</th>\n",
       "      <td>Rania Khoury</td>\n",
       "      <td>1</td>\n",
       "      <td>C; Python; JavaScript</td>\n",
       "      <td>Java Programming (Oracle)</td>\n",
       "      <td>3</td>\n",
       "      <td>Peer Programming Tutor</td>\n",
       "      <td>Software Developer</td>\n",
       "      <td>Rania entered the University of Jordan's Compu...</td>\n",
       "      <td>0</td>\n",
       "    </tr>\n",
       "    <tr>\n",
       "      <th>3</th>\n",
       "      <td>Khaled Abbas</td>\n",
       "      <td>2</td>\n",
       "      <td>SQL; Python; R</td>\n",
       "      <td>Data Science Professional Certificate (IBM)</td>\n",
       "      <td>4</td>\n",
       "      <td>Volunteer Tutor</td>\n",
       "      <td>Data Scientist</td>\n",
       "      <td>Khaled has a knack for translating data into m...</td>\n",
       "      <td>1</td>\n",
       "    </tr>\n",
       "    <tr>\n",
       "      <th>4</th>\n",
       "      <td>Nour Husseini</td>\n",
       "      <td>3</td>\n",
       "      <td>Python; Java; SQL</td>\n",
       "      <td>CEH</td>\n",
       "      <td>5</td>\n",
       "      <td>Tech Community Member</td>\n",
       "      <td>Cybersecurity Analyst</td>\n",
       "      <td>In her Third year at Petra University, Nour is...</td>\n",
       "      <td>2</td>\n",
       "    </tr>\n",
       "  </tbody>\n",
       "</table>\n",
       "</div>"
      ],
      "text/plain": [
       "             Name  Year  Programming Languages  \\\n",
       "0   Laila Mansour     2         Python; R; SQL   \n",
       "1  Omar Al-Hassan     4        Java; C++; HTML   \n",
       "2    Rania Khoury     1  C; Python; JavaScript   \n",
       "3    Khaled Abbas     2         SQL; Python; R   \n",
       "4   Nour Husseini     3      Python; Java; SQL   \n",
       "\n",
       "                                Certifications  Project Count  \\\n",
       "0  Data Science Professional Certificate (IBM)              4   \n",
       "1                            CompTIA Security+              5   \n",
       "2                    Java Programming (Oracle)              3   \n",
       "3  Data Science Professional Certificate (IBM)              4   \n",
       "4                                          CEH              5   \n",
       "\n",
       "              Extracurricular Activities        Career Interest  \\\n",
       "0                         AI Club Mentor         Data Scientist   \n",
       "1  Cybersecurity Competition Participant  Cybersecurity Analyst   \n",
       "2                 Peer Programming Tutor     Software Developer   \n",
       "3                        Volunteer Tutor         Data Scientist   \n",
       "4                  Tech Community Member  Cybersecurity Analyst   \n",
       "\n",
       "                                                 Bio  Cluster  \n",
       "0  Laila has always been fascinated by the patter...        1  \n",
       "1  A forth-year student at Princess Sumaya Univer...        2  \n",
       "2  Rania entered the University of Jordan's Compu...        0  \n",
       "3  Khaled has a knack for translating data into m...        1  \n",
       "4  In her Third year at Petra University, Nour is...        2  "
      ]
     },
     "execution_count": 3,
     "metadata": {},
     "output_type": "execute_result"
    }
   ],
   "source": [
    "import pandas as pd\n",
    "\n",
    "df = pd.read_csv(\"Final_students_data.csv\")\n",
    "\n",
    "df.head()"
   ]
  },
  {
   "cell_type": "code",
   "execution_count": 2,
   "metadata": {},
   "outputs": [
    {
     "data": {
      "text/plain": [
       "Name                          0\n",
       "Year                          0\n",
       "Programming Languages         0\n",
       "Certifications                0\n",
       "Project Count                 0\n",
       "Extracurricular Activities    0\n",
       "Career Interest               0\n",
       "Bio                           0\n",
       "Cluster                       0\n",
       "dtype: int64"
      ]
     },
     "execution_count": 2,
     "metadata": {},
     "output_type": "execute_result"
    }
   ],
   "source": [
    "df.isnull().sum()"
   ]
  },
  {
   "cell_type": "code",
   "execution_count": 4,
   "metadata": {},
   "outputs": [],
   "source": [
    "df[\"Certifications\"] = df[\"Certifications\"].astype(str).str.lower().str.strip()\n",
    "df[\"Name\"] = df[\"Name\"].astype(str).str.lower().str.strip()\n",
    "df[\"Programming Languages\"] = df[\"Programming Languages\"].astype(str).str.lower().str.strip()\n",
    "df[\"Extracurricular Activities\"] = df[\"Extracurricular Activities\"].astype(str).str.lower().str.strip()\n",
    "df[\"Bio\"] = df[\"Bio\"].astype(str).str.lower().str.strip()\n",
    "df[\"Project Count\"] = df[\"Project Count\"].fillna(0).astype(int)\n"
   ]
  },
  {
   "cell_type": "code",
   "execution_count": 4,
   "metadata": {},
   "outputs": [
    {
     "data": {
      "text/plain": [
       "array(['data science professional certificate (ibm)', 'comptia security+',\n",
       "       'java programming (oracle)', 'ceh', 'aws certified developer',\n",
       "       'comptia network+', 'python for data science (coursera)',\n",
       "       'google data analytics professional', 'ai foundations (coursera)',\n",
       "       'web development bootcamp (udemy)',\n",
       "       'data science specialization (coursera)',\n",
       "       'certified ethical hacker (ceh)',\n",
       "       'google data analytics certificate',\n",
       "       'certified information systems security professional (cissp)',\n",
       "       'network+ certified', 'javascript certification (udemy)',\n",
       "       'data science foundations (coursera)',\n",
       "       'data science certification (coursera)',\n",
       "       'full stack developer certification', 'ai fundamentals (coursera)',\n",
       "       'oracle java programming certificate',\n",
       "       'database management certificate',\n",
       "       'javascript development certificate',\n",
       "       'comptia security+ certification',\n",
       "       'data structures and algorithms certification (udemy)',\n",
       "       'software engineering certificate',\n",
       "       'full stack web development certificate (udemy)',\n",
       "       'data science fundamentals (coursera)',\n",
       "       'certified information systems auditor (cisa)',\n",
       "       'certified information security manager (cism)',\n",
       "       'data science certificate (udemy)',\n",
       "       'full stack web development certificate',\n",
       "       'comptia security+ (certified)', 'database management (oracle)',\n",
       "       'advanced data analytics (udemy)',\n",
       "       'data science professional certificate',\n",
       "       'full stack web development (udemy)',\n",
       "       'machine learning specialization (coursera)',\n",
       "       'android development (google)',\n",
       "       'deep learning specialization (coursera)',\n",
       "       'software engineering (udemy)',\n",
       "       'network security fundamentals (udemy)',\n",
       "       'mobile development (udemy)', 'advanced data science (coursera)',\n",
       "       'comptia network+ (certified)',\n",
       "       'cloud computing certificate (aws)',\n",
       "       'big data specialization (coursera)', 'ai for everyone (coursera)',\n",
       "       'data structures & algorithms (coursera)', 'cloud computing (aws)',\n",
       "       'agile development (coursera)',\n",
       "       'data analysis with python (coursera)',\n",
       "       'data visualization specialist', 'web developer bootcamp',\n",
       "       'machine learning specialist (coursera)',\n",
       "       'mobile development certificate (udemy)',\n",
       "       'network security certification (cisco)',\n",
       "       'machine learning advanced (coursera)',\n",
       "       'full stack developer certificate',\n",
       "       'data analysis professional certificate',\n",
       "       'data scientist certification (coursera)',\n",
       "       'web development bootcamp',\n",
       "       'mobile app development certificate (udemy)',\n",
       "       'data analytics professional',\n",
       "       'microsoft certified solutions developer (mcsd)',\n",
       "       'data science foundations', 'front-end development certificate',\n",
       "       'advanced machine learning', 'network security associate',\n",
       "       'full stack web development', 'data science specialization',\n",
       "       'mobile app development', 'cybersecurity professional',\n",
       "       'data science basics', 'certified ethical hacker',\n",
       "       'full stack development', 'data analytics certification',\n",
       "       'certified information security manager',\n",
       "       'mobile development specialist', 'data science advanced',\n",
       "       'data analytics fundamentals',\n",
       "       'certified information systems auditor', 'full stack developer',\n",
       "       'data visualization certificate', 'network security certificate',\n",
       "       'full stack development certification', 'data science associate',\n",
       "       'comptia security+ certified', 'certified web developer',\n",
       "       'data analytics', 'cybersecurity certification',\n",
       "       'mobile development certificate', 'ethical hacking certification',\n",
       "       'front-end development', 'cybersecurity analyst certification',\n",
       "       'data scientist certification', 'cybersecurity basics',\n",
       "       'microsoft azure fundamentals', 'machine learning certificate',\n",
       "       'software development certificate', 'data analyst certificate',\n",
       "       'front-end web development', 'data analyst certification',\n",
       "       'network security specialist', 'mobile development',\n",
       "       'machine learning specialist', 'network security certification',\n",
       "       'machine learning basics', 'information security certification',\n",
       "       'web development certificate', 'data analytics specialist',\n",
       "       'cybersecurity fundamentals', 'back-end developer',\n",
       "       'data engineering certification', 'ethical hacking',\n",
       "       'cloud computing essentials', 'web development basics',\n",
       "       'cyber defense certification', 'app development essentials',\n",
       "       'data analysis basics', 'javascript for web', 'data mining',\n",
       "       'network security fundamentals', 'database systems',\n",
       "       'data science intro', 'cybersecurity essentials',\n",
       "       'advanced data visualization', 'ethical hacking intro',\n",
       "       'back-end development', 'machine learning intro',\n",
       "       'network security', 'web development intro',\n",
       "       'data engineering essentials', 'information security basics',\n",
       "       'cloud computing basics', 'intro to data analysis',\n",
       "       'cyber defense essentials', 'cloud fundamentals',\n",
       "       'intro to cryptography', 'machine learning advanced',\n",
       "       'network security basics', 'data science professional',\n",
       "       'web dev basics', 'data analysis fundamentals',\n",
       "       'database management', 'cyber defense basics',\n",
       "       'advanced analytics', 'cloud development', 'cyber defense',\n",
       "       'intro to data science', 'application development',\n",
       "       'machine learning', 'cyber defense specialist', 'intro to ai',\n",
       "       'database admin basics', 'cyber awareness'], dtype=object)"
      ]
     },
     "execution_count": 4,
     "metadata": {},
     "output_type": "execute_result"
    }
   ],
   "source": [
    "df[\"Certifications\"].unique()"
   ]
  },
  {
   "cell_type": "code",
   "execution_count": 10,
   "metadata": {},
   "outputs": [
    {
     "data": {
      "text/plain": [
       "array(['ai club mentor', 'cybersecurity competition participant',\n",
       "       'peer programming tutor', 'volunteer tutor',\n",
       "       'tech community member', 'student government member',\n",
       "       'hackathon participant', 'tech conference organizer',\n",
       "       'ai club volunteer', 'digital security researcher',\n",
       "       'startup founder', 'research assistant',\n",
       "       'cybersecurity awareness speaker', 'volunteer developer',\n",
       "       'data analytics consultant', 'security consultant', 'tech blogger',\n",
       "       'data science volunteer', 'cybersecurity blog writer',\n",
       "       'ai research assistant', 'cybersecurity awareness advocate',\n",
       "       'peer tutor', 'volunteer for cybersecurity workshops',\n",
       "       'hackathon organizer', 'machine learning club member',\n",
       "       'tech talk speaker', 'peer mentor', 'ai club member',\n",
       "       'cybersecurity lab assistant', 'web development mentor',\n",
       "       'ai project developer', 'data science club member',\n",
       "       'tech workshop leader', 'tech meetups attendee',\n",
       "       'security analyst', 'cybersecurity awareness campaign volunteer',\n",
       "       'open source contributor', 'data science conference speaker',\n",
       "       'cyber security blog contributor', 'app development club member',\n",
       "       'ai research club member', 'cyber security competitor',\n",
       "       'web development project leader', 'data science mentor',\n",
       "       'digital safety educator', 'open source developer',\n",
       "       'cybersecurity awareness campaign leader',\n",
       "       'security operations center intern', 'data science club president',\n",
       "       'cybersecurity researcher', 'computer science club member',\n",
       "       'data science research assistant', 'cybersecurity consultant',\n",
       "       'hackathon winner', 'ai research lab assistant',\n",
       "       'cybersecurity intern', 'robotics club member',\n",
       "       'tech conference speaker', 'ai club coordinator',\n",
       "       'cybersecurity team leader', 'ai enthusiast', 'ai innovator',\n",
       "       'security researcher', 'ai lab assistant',\n",
       "       'data science enthusiast', 'cybersecurity analyst intern',\n",
       "       'app developer', 'network security intern', 'startup mentor',\n",
       "       'software engineering club', 'ai researcher',\n",
       "       'tech event volunteer', 'ai model development team',\n",
       "       'security awareness advocate', 'software development intern',\n",
       "       'data visualization team lead', 'ethical hacking club member',\n",
       "       'programming contest participant', 'data analytics intern',\n",
       "       'app development club president', 'ethical hacker',\n",
       "       'data science society', 'student council member',\n",
       "       'network security group leader', 'app development club',\n",
       "       'ethical hacking club', 'data science society leader',\n",
       "       'student mentor', 'data science club',\n",
       "       'cybersecurity awareness club', 'mobile app developer intern',\n",
       "       'data analysis workshop leader', 'cybersecurity club member',\n",
       "       'cybersecurity mentor', 'ai club', 'data visualization society',\n",
       "       'cyber defense team', 'tech outreach program',\n",
       "       'data science ambassador', 'student council',\n",
       "       'data innovation club leader', 'cybersecurity research club',\n",
       "       'women in tech club', 'ai research lab',\n",
       "       'security awareness initiative', 'student programmer club',\n",
       "       'data enthusiasts group', 'cybersecurity advocacy group',\n",
       "       'data analysis workshops', 'data enthusiasts club', 'code4change',\n",
       "       'cyber defense club', 'women in cybersecurity',\n",
       "       'game development club', 'network security association',\n",
       "       'data innovation hub', 'cybersecurity awareness program',\n",
       "       'developer student club', 'data science for social good',\n",
       "       'cybersecurity club', 'tech for good', 'data analytics community',\n",
       "       'women in security', 'data science ambassadors',\n",
       "       'cybersecurity network', 'women in computing', 'data innovators',\n",
       "       'women in tech', 'ai and data club', 'cybersecurity society',\n",
       "       'tech enthusiasts club', 'data science and innovation',\n",
       "       'network security team', 'student coding society',\n",
       "       'data visualization club', 'data science community',\n",
       "       'data analysis club', 'app development society',\n",
       "       'student data society', 'developer network',\n",
       "       'data engineering group', 'women in tech security', 'data society',\n",
       "       'security alliance', 'student dev group', 'code club',\n",
       "       'data science collective', 'cybersecurity forum', 'tech community',\n",
       "       'student developer alliance', 'visualization club', 'tech women',\n",
       "       'data community', 'tech enthusiasts', 'data engineering society',\n",
       "       'data insights society', 'security club', 'big data club',\n",
       "       'analytics society', 'student developers club',\n",
       "       'data science network', 'data explorers', 'data analytics society',\n",
       "       'cyber protection group', 'young data enthusiasts',\n",
       "       'innovation lab', 'ai society', 'network security society',\n",
       "       'database club', 'young cyber enthusiasts'], dtype=object)"
      ]
     },
     "execution_count": 10,
     "metadata": {},
     "output_type": "execute_result"
    }
   ],
   "source": [
    "df[\"Extracurricular Activities\"].unique()"
   ]
  },
  {
   "cell_type": "code",
   "execution_count": 64,
   "metadata": {},
   "outputs": [
    {
     "data": {
      "text/plain": [
       "Cluster\n",
       "0    84\n",
       "1    89\n",
       "2    84\n",
       "Name: count, dtype: int64"
      ]
     },
     "execution_count": 64,
     "metadata": {},
     "output_type": "execute_result"
    }
   ],
   "source": [
    "cluster_counts = df['Cluster'].value_counts().sort_index()\n",
    "cluster_counts"
   ]
  },
  {
   "cell_type": "markdown",
   "metadata": {},
   "source": [
    "# TF-IDF"
   ]
  },
  {
   "cell_type": "code",
   "execution_count": 5,
   "metadata": {},
   "outputs": [],
   "source": [
    "from modules.TfIdf import TfIdf_moh\n",
    "tf = TfIdf_moh()\n",
    "tf.vectorizer = tf.vectorizer.set_params(stop_words='english')\n",
    "\n",
    "queries = []\n",
    "\n",
    "for query in df[\"Bio\"]:\n",
    "    queries.append(query)\n",
    "\n",
    "tf.vectorize(queries)\n"
   ]
  },
  {
   "cell_type": "markdown",
   "metadata": {},
   "source": [
    "## Fixed tf"
   ]
  },
  {
   "cell_type": "code",
   "execution_count": 61,
   "metadata": {},
   "outputs": [
    {
     "name": "stdout",
     "output_type": "stream",
     "text": [
      "done\n"
     ]
    }
   ],
   "source": [
    "path = \"results/tf_results.txt\"\n",
    "\n",
    "\n",
    "queriesTest = [\n",
    "    \"Data Science and AI\",\n",
    "    \"AI mentor\",\n",
    "    \"Impactful contributions\",\n",
    "    \"Data patterns\",\n",
    "    \"Sophomore in Data Science\"]\n",
    "\n",
    "results = tf.rank_queries(queriesTest)\n",
    "\n",
    "with open(path, \"w\") as file:\n",
    "    for query, result in results.items():\n",
    "        file.write(f\"query: {query}\\n\")\n",
    "        ranked_bios = result.get(\"rankedIndexes\", [])\n",
    "        scores = result.get(\"score\", [])\n",
    "\n",
    "        for rank, index in enumerate(ranked_bios[:5], start=1):\n",
    "            file.write(f\"bio {rank}:\\n\")\n",
    "            file.write(f\"{df['Bio'][index]}\\n\")\n",
    "            file.write(f\"score: {scores[rank - 1]:.4f}\\n\")\n",
    "        file.write(\"-\" * 40 + \"\\n\")\n",
    "\n",
    "print(\"done\")"
   ]
  },
  {
   "cell_type": "code",
   "execution_count": 7,
   "metadata": {},
   "outputs": [
    {
     "name": "stdout",
     "output_type": "stream",
     "text": [
      "['TfIdf_moh', 'TfidfVectorizer', '__builtins__', '__cached__', '__doc__', '__file__', '__loader__', '__name__', '__package__', '__spec__', 'cosine_similarity', 'np']\n"
     ]
    }
   ],
   "source": [
    "import importlib\n",
    "import modules.TfIdf\n",
    "\n",
    "importlib.reload(modules.TfIdf)\n",
    "print(dir(modules.TfIdf))\n"
   ]
  },
  {
   "cell_type": "markdown",
   "metadata": {},
   "source": [
    "## Dynamic tf"
   ]
  },
  {
   "cell_type": "code",
   "execution_count": 9,
   "metadata": {},
   "outputs": [
    {
     "name": "stdout",
     "output_type": "stream",
     "text": [
      "no related bios found\n"
     ]
    }
   ],
   "source": [
    "import modules.util\n",
    "import numpy as np\n",
    "import importlib\n",
    "importlib.reload(modules.util)\n",
    "\n",
    "from modules.util import remove_stop_words, has_words_english, write_ranked_results_m, calculate_dynamic_threshold_m, get_ranked_results_m\n",
    "\n",
    "path_m = \"results/dynamic_tf_results.txt\"\n",
    "\n",
    "query_m = input(\"Please enter the bio you want to rank: \")\n",
    "query_m = remove_stop_words(query_m) \n",
    "    \n",
    "if not has_words_english(query_m):\n",
    "    print(\"please enter a query with words in English\")\n",
    "        \n",
    "ranked_bios_m, scores_m = get_ranked_results_m(tf, df, query_m)\n",
    "    \n",
    "if len(ranked_bios_m) == 0:\n",
    "    print(\"no bios to rank\")\n",
    "    \n",
    "        \n",
    "selected_bios_m, selected_scores_m, threshold_m = calculate_dynamic_threshold_m(scores_m, df, ranked_bios_m)\n",
    "    \n",
    "    \n",
    "if threshold_m < 0.01:\n",
    "    selected_bios_m = np.array([])\n",
    "    selected_scores_m = np.array([])\n",
    "    \n",
    "success_m = write_ranked_results_m(path_m, df, selected_bios_m, selected_scores_m)\n",
    "    \n",
    "if success_m:\n",
    "    print(f\"done, results saved to {path_m}\")\n",
    "else:\n",
    "    print(\"no related bios found\")"
   ]
  },
  {
   "cell_type": "markdown",
   "metadata": {},
   "source": [
    "## Test"
   ]
  },
  {
   "cell_type": "code",
   "execution_count": 10,
   "metadata": {},
   "outputs": [
    {
     "name": "stdout",
     "output_type": "stream",
     "text": [
      "please enter a query with words in English\n",
      "no related bios found\n"
     ]
    }
   ],
   "source": [
    "# Entering a number\n",
    "import modules.util\n",
    "import numpy as np\n",
    "import importlib\n",
    "importlib.reload(modules.util)\n",
    "\n",
    "from modules.util import remove_stop_words, has_words_english, write_ranked_results_m, calculate_dynamic_threshold_m, get_ranked_results_m\n",
    "\n",
    "path_m = \"results/Tests/dynamic_tf_results_numbers.txt\"\n",
    "\n",
    "query_m = input(\"Please enter the bio you want to rank: \")\n",
    "query_m = remove_stop_words(query_m) \n",
    "    \n",
    "if not has_words_english(query_m):\n",
    "    print(\"please enter a query with words in English\")\n",
    "        \n",
    "ranked_bios_m, scores_m = get_ranked_results_m(tf, df, query_m)\n",
    "    \n",
    "if len(ranked_bios_m) == 0:\n",
    "    print(\"no bios to rank\")\n",
    "    \n",
    "        \n",
    "selected_bios_m, selected_scores_m, threshold_m = calculate_dynamic_threshold_m(scores_m, df, ranked_bios_m)\n",
    "    \n",
    "    \n",
    "if threshold_m < 0.01:\n",
    "    selected_bios_m = np.array([])\n",
    "    selected_scores_m = np.array([])\n",
    "    \n",
    "success_m = write_ranked_results_m(path_m, df, selected_bios_m, selected_scores_m)\n",
    "    \n",
    "if success_m:\n",
    "    print(f\"done, results saved to {path_m}\")\n",
    "else:\n",
    "    print(\"no related bios found\")"
   ]
  },
  {
   "cell_type": "code",
   "execution_count": 14,
   "metadata": {},
   "outputs": [
    {
     "name": "stdout",
     "output_type": "stream",
     "text": [
      "no related bios found\n"
     ]
    }
   ],
   "source": [
    "# Entering a non realted Bio (m)\n",
    "import modules.util\n",
    "import numpy as np\n",
    "import importlib\n",
    "importlib.reload(modules.util)\n",
    "\n",
    "from modules.util import remove_stop_words, has_words_english, write_ranked_results_m, calculate_dynamic_threshold_m, get_ranked_results_m\n",
    "\n",
    "path_m = \"results/Tests/dynamic_tf_results_nonRelated.txt\"\n",
    "\n",
    "query_m = input(\"Please enter the bio you want to rank: \")\n",
    "query_m = remove_stop_words(query_m) \n",
    "    \n",
    "if not has_words_english(query_m):\n",
    "    print(\"please enter a query with words in English\")\n",
    "        \n",
    "ranked_bios_m, scores_m = get_ranked_results_m(tf, df, query_m)\n",
    "    \n",
    "if len(ranked_bios_m) == 0:\n",
    "    print(\"no bios to rank\")\n",
    "    \n",
    "        \n",
    "selected_bios_m, selected_scores_m, threshold_m = calculate_dynamic_threshold_m(scores_m, df, ranked_bios_m)\n",
    "    \n",
    "    \n",
    "if threshold_m < 0.01:\n",
    "    selected_bios_m = np.array([])\n",
    "    selected_scores_m = np.array([])\n",
    "    \n",
    "success_m = write_ranked_results_m(path_m, df, selected_bios_m, selected_scores_m)\n",
    "    \n",
    "if success_m:\n",
    "    print(f\"done, results saved to {path_m}\")\n",
    "else:\n",
    "    print(\"no related bios found\")"
   ]
  },
  {
   "cell_type": "code",
   "execution_count": 13,
   "metadata": {},
   "outputs": [
    {
     "name": "stdout",
     "output_type": "stream",
     "text": [
      "done, results saved to results/tests/dynamic_tf_results_Valid.txt\n"
     ]
    }
   ],
   "source": [
    "# Entering a Vlaid Bio\n",
    "'''\n",
    "As a data science researcher, I build machine learning models to uncover patterns in large datasets. My focus is on NLP and AI-driven solutions for healthcare diagnostics, leveraging Python and PyTorch.\n",
    "'''\n",
    "import modules.util\n",
    "import numpy as np\n",
    "import importlib\n",
    "importlib.reload(modules.util)\n",
    "\n",
    "from modules.util import remove_stop_words, has_words_english, write_ranked_results_m, calculate_dynamic_threshold_m, get_ranked_results_m\n",
    "\n",
    "path_m = \"results/tests/dynamic_tf_results_Valid.txt\"\n",
    "\n",
    "query_m = input(\"Please enter the bio you want to rank: \")\n",
    "query_m = remove_stop_words(query_m) \n",
    "    \n",
    "if not has_words_english(query_m):\n",
    "    print(\"please enter a query with words in English\")\n",
    "        \n",
    "ranked_bios_m, scores_m = get_ranked_results_m(tf, df, query_m)\n",
    "    \n",
    "if len(ranked_bios_m) == 0:\n",
    "    print(\"no bios to rank\")\n",
    "    \n",
    "        \n",
    "selected_bios_m, selected_scores_m, threshold_m = calculate_dynamic_threshold_m(scores_m, df, ranked_bios_m)\n",
    "    \n",
    "    \n",
    "if threshold_m < 0.01:\n",
    "    selected_bios_m = np.array([])\n",
    "    selected_scores_m = np.array([])\n",
    "    \n",
    "success_m = write_ranked_results_m(path_m, df, selected_bios_m, selected_scores_m)\n",
    "    \n",
    "if success_m:\n",
    "    print(f\"done, results saved to {path_m}\")\n",
    "else:\n",
    "    print(\"no related bios found\")"
   ]
  },
  {
   "cell_type": "markdown",
   "metadata": {},
   "source": [
    "# Graph"
   ]
  },
  {
   "cell_type": "code",
   "execution_count": 15,
   "metadata": {},
   "outputs": [
    {
     "name": "stdout",
     "output_type": "stream",
     "text": [
      "['ENGLISH_STOP_WORDS', '__builtins__', '__cached__', '__doc__', '__file__', '__loader__', '__name__', '__package__', '__spec__', 'calculate_dynamic_threshold_m', 'get_languges', 'get_ranked_results_m', 'has_words_english', 'np', 'ranked_bios_m', 're', 'remove_stop_words', 'write_ranked_results_m']\n"
     ]
    }
   ],
   "source": [
    "import importlib\n",
    "import modules.graph\n",
    "import modules.util\n",
    "\n",
    "importlib.reload(modules.util)\n",
    "importlib.reload(modules.graph)\n",
    "\n",
    "print(dir(modules.util))\n"
   ]
  },
  {
   "cell_type": "code",
   "execution_count": 16,
   "metadata": {},
   "outputs": [],
   "source": [
    "from modules.util import get_languges\n",
    "from modules.graph import Graph\n",
    "\n",
    "\n"
   ]
  },
  {
   "cell_type": "markdown",
   "metadata": {},
   "source": [
    "## initiliza variables "
   ]
  },
  {
   "cell_type": "code",
   "execution_count": 17,
   "metadata": {},
   "outputs": [],
   "source": [
    "All_language = set()\n",
    "All_certificates = set()\n",
    "cert_student_projects = {}\n",
    "\n",
    "\n"
   ]
  },
  {
   "cell_type": "code",
   "execution_count": 18,
   "metadata": {},
   "outputs": [],
   "source": [
    "student_names = df[\"Name\"].to_list()\n",
    "student_cert = df[\"Certifications\"].to_list()\n",
    "\n",
    "for name in student_names: \n",
    "    student_row = df[df[\"Name\"] == name]\n",
    "    student_langs = get_languges(student_row[\"Programming Languages\"].iloc[0])\n",
    "    for lang in student_langs:\n",
    "        All_language.add(lang.strip())\n"
   ]
  },
  {
   "cell_type": "code",
   "execution_count": 19,
   "metadata": {},
   "outputs": [],
   "source": [
    "for cert in df[\"Certifications\"].unique():\n",
    "    filtered_df = df[df[\"Certifications\"] == cert]\n",
    "\n",
    "    student_project_counts = dict(zip(filtered_df[\"Name\"], filtered_df[\"Project Count\"]))\n",
    "    cert_student_projects[cert] = student_project_counts\n",
    "\n"
   ]
  },
  {
   "cell_type": "code",
   "execution_count": 21,
   "metadata": {},
   "outputs": [
    {
     "name": "stdout",
     "output_type": "stream",
     "text": [
      "156\n"
     ]
    }
   ],
   "source": [
    "for cert in df[\"Certifications\"].tolist(): \n",
    "    All_certificates.add(cert)\n",
    "\n",
    "print(len(All_certificates))"
   ]
  },
  {
   "cell_type": "code",
   "execution_count": 20,
   "metadata": {},
   "outputs": [
    {
     "data": {
      "text/plain": [
       "{'data science professional certificate (ibm)': {'laila mansour': 4,\n",
       "  'khaled abbas': 4,\n",
       "  'omar mansour': 4,\n",
       "  'rami zubair': 4},\n",
       " 'comptia security+': {'omar al-hassan': 5,\n",
       "  'jad nader': 5,\n",
       "  'layla sweis': 5,\n",
       "  'sami jamal': 5,\n",
       "  'nadine khalil': 5,\n",
       "  'laila kharma': 5,\n",
       "  'omar farah': 5,\n",
       "  'samira nabil': 5},\n",
       " 'java programming (oracle)': {'rania khoury': 3,\n",
       "  'sara haddad': 3,\n",
       "  'rasha fadoul': 3,\n",
       "  'samir ghazi': 3},\n",
       " 'ceh': {'nour husseini': 5},\n",
       " 'aws certified developer': {'mazen jaber': 4},\n",
       " 'comptia network+': {'amal qassem': 5, 'zeinab qasem': 5},\n",
       " 'python for data science (coursera)': {'tariq nassar': 3,\n",
       "  'yara al-majali': 3,\n",
       "  'mariam zohdi': 3},\n",
       " 'google data analytics professional': {'lina fakhoury': 4},\n",
       " 'ai foundations (coursera)': {'hassan al-mansour': 4,\n",
       "  'omar zayed': 4,\n",
       "  'hassan akram': 4,\n",
       "  'samar ibrahim': 4},\n",
       " 'web development bootcamp (udemy)': {'fatima khalil': 3,\n",
       "  'maya sayegh': 3,\n",
       "  'ali al-qudah': 3,\n",
       "  'basil hamed': 3,\n",
       "  'mariam faris': 3,\n",
       "  'iman jaber': 3,\n",
       "  'hiba khatib': 3,\n",
       "  'noor ibrahim': 3},\n",
       " 'data science specialization (coursera)': {'yousef dabbous': 4,\n",
       "  'ziad taha': 4,\n",
       "  'fadi saba': 4,\n",
       "  'layla darwish': 4,\n",
       "  'yasmin nassar': 4,\n",
       "  'salem abbas': 4},\n",
       " 'certified ethical hacker (ceh)': {'joud zayed': 5,\n",
       "  'jana faris': 5,\n",
       "  'sami khoury': 5,\n",
       "  'fadi khalil': 5,\n",
       "  'yasmin ayman': 5,\n",
       "  'zaid haddad': 5,\n",
       "  'sama samir': 5,\n",
       "  'zeyad jaber': 5,\n",
       "  'mariam barakat': 5,\n",
       "  'khaled rashid': 5,\n",
       "  'leen al-masri': 5,\n",
       "  'khalil ahmad': 5,\n",
       "  'ali kareem': 5,\n",
       "  'maha said': 5,\n",
       "  'dalia firas': 5,\n",
       "  'jamal salim': 5},\n",
       " 'google data analytics certificate': {'nadine yassin': 4,\n",
       "  'nour dweikat': 4,\n",
       "  'maya habib': 4},\n",
       " 'certified information systems security professional (cissp)': {'rami qassem': 5,\n",
       "  'ahmad tarawneh': 5,\n",
       "  'yassir taha': 5,\n",
       "  'mazen al-mohammad': 5,\n",
       "  'yousef tareq': 5,\n",
       "  'nadia hussein': 5},\n",
       " 'network+ certified': {'ahmed hariri': 5, 'marwan ghanem': 5},\n",
       " 'javascript certification (udemy)': {'rania dabbous': 3},\n",
       " 'data science foundations (coursera)': {'karim al-sayed': 4,\n",
       "  'lina rabi': 4,\n",
       "  'muna shadi': 4,\n",
       "  'maya haddad': 4,\n",
       "  'aya rami': 4},\n",
       " 'data science certification (coursera)': {'yasmin khoury': 3,\n",
       "  'hassan youssef': 4},\n",
       " 'full stack developer certification': {'rami khouri': 3, 'maha azzam': 3},\n",
       " 'ai fundamentals (coursera)': {'maha shakir': 4},\n",
       " 'oracle java programming certificate': {'omar ziad': 3},\n",
       " 'database management certificate': {'khalil hatem': 3},\n",
       " 'javascript development certificate': {'nadine al-din': 3},\n",
       " 'comptia security+ certification': {'fatima hassan': 5},\n",
       " 'data structures and algorithms certification (udemy)': {'rania hani': 3},\n",
       " 'software engineering certificate': {'sara al-tamimi': 3},\n",
       " 'full stack web development certificate (udemy)': {'rania shteiwi': 3},\n",
       " 'data science fundamentals (coursera)': {'ali dakhil': 4,\n",
       "  'rami saleh': 4,\n",
       "  'mousa kassem': 4},\n",
       " 'certified information systems auditor (cisa)': {'fahad mansour': 5,\n",
       "  'hussein al-dabbas': 5},\n",
       " 'certified information security manager (cism)': {'omar malki': 5},\n",
       " 'data science certificate (udemy)': {'mahmoud sayegh': 4},\n",
       " 'full stack web development certificate': {'ziad mazin': 3, 'maha faris': 3},\n",
       " 'comptia security+ (certified)': {'jumana taha': 5,\n",
       "  'rami abed': 5,\n",
       "  'rana nader': 5,\n",
       "  'yasmin nassar': 5,\n",
       "  'omar al-khatib': 5,\n",
       "  'jana nabil': 5},\n",
       " 'database management (oracle)': {'aliya kassem': 3},\n",
       " 'advanced data analytics (udemy)': {'tariq qassem': 4},\n",
       " 'data science professional certificate': {'nour rihani': 4,\n",
       "  'tariq majeed': 4,\n",
       "  'jad taha': 4},\n",
       " 'full stack web development (udemy)': {'faris al-haj': 3},\n",
       " 'machine learning specialization (coursera)': {'hanan shraim': 4,\n",
       "  'mohammad fawaz': 4,\n",
       "  'sara badr': 4},\n",
       " 'android development (google)': {'omar awad': 3},\n",
       " 'deep learning specialization (coursera)': {'salma asaad': 4},\n",
       " 'software engineering (udemy)': {'lina fawaz': 3},\n",
       " 'network security fundamentals (udemy)': {'fatimah samir': 5,\n",
       "  'dina kassem': 5},\n",
       " 'mobile development (udemy)': {'basil al-daoud': 3,\n",
       "  'mariam qasem': 3,\n",
       "  'nour taha': 3},\n",
       " 'advanced data science (coursera)': {'muna khader': 4},\n",
       " 'comptia network+ (certified)': {'sami jaber': 5},\n",
       " 'cloud computing certificate (aws)': {'amir khalil': 3},\n",
       " 'big data specialization (coursera)': {'rasha salim': 4},\n",
       " 'ai for everyone (coursera)': {'mohammad hani': 4},\n",
       " 'data structures & algorithms (coursera)': {'ali faris': 3},\n",
       " 'cloud computing (aws)': {'yasmin al-muhaidat': 3},\n",
       " 'agile development (coursera)': {'omar mustafa': 3, 'mahmoud jaber': 3},\n",
       " 'data analysis with python (coursera)': {'abeer nader': 4},\n",
       " 'data visualization specialist': {'rana faris': 4, 'tariq badr': 4},\n",
       " 'web developer bootcamp': {'farah zayed': 3},\n",
       " 'machine learning specialist (coursera)': {'nabil hani': 4,\n",
       "  'kareem bassam': 4},\n",
       " 'mobile development certificate (udemy)': {'amal qawasmi': 3},\n",
       " 'network security certification (cisco)': {'lina adel': 5},\n",
       " 'machine learning advanced (coursera)': {'hala fathi': 4},\n",
       " 'full stack developer certificate': {'saja masri': 3},\n",
       " 'data analysis professional certificate': {'hussam zaki': 4, 'nader issa': 4},\n",
       " 'data scientist certification (coursera)': {'ziad rashid': 4},\n",
       " 'web development bootcamp': {'salma ali': 3, 'yousef talal': 3},\n",
       " 'mobile app development certificate (udemy)': {'sultan hassan': 3},\n",
       " 'data analytics professional': {'amjad khalid': 4, 'mona abdulrahman': 4},\n",
       " 'microsoft certified solutions developer (mcsd)': {'zein jaber': 3},\n",
       " 'data science foundations': {'dina hasan': 4,\n",
       "  'amal saleh': 4,\n",
       "  'salma hasan': 4,\n",
       "  'mahmoud khaled': 4},\n",
       " 'front-end development certificate': {'sara nassar': 3},\n",
       " 'advanced machine learning': {'adnan qadri': 4, 'bashar qasim': 4},\n",
       " 'network security associate': {'rania morsi': 5},\n",
       " 'full stack web development': {'kareem sami': 3},\n",
       " 'data science specialization': {'hiba tarek': 4, 'karim saad': 4},\n",
       " 'mobile app development': {'leila rami': 3, 'yara saleh': 3},\n",
       " 'cybersecurity professional': {'manal saleh': 5},\n",
       " 'data science basics': {'sama kamal': 4},\n",
       " 'certified ethical hacker': {'bilal ameen': 5},\n",
       " 'full stack development': {'jana raad': 3, 'ramy hatem': 3},\n",
       " 'data analytics certification': {'ismail fares': 4},\n",
       " 'certified information security manager': {'amina dahi': 5, 'naji ismail': 5},\n",
       " 'mobile development specialist': {'majed qassem': 3},\n",
       " 'data science advanced': {'mona khalil': 4},\n",
       " 'data analytics fundamentals': {'nabil hassan': 4},\n",
       " 'certified information systems auditor': {'samia ali': 5},\n",
       " 'full stack developer': {'omar jaber': 3, 'lina tariq': 3, 'rami fadi': 3},\n",
       " 'data visualization certificate': {'dalia sayegh': 4},\n",
       " 'network security certificate': {'amr sami': 5},\n",
       " 'full stack development certification': {'rania khaled': 3},\n",
       " 'data science associate': {'salem hadi': 4},\n",
       " 'comptia security+ certified': {'fatima jamal': 5, 'rana omar': 5},\n",
       " 'certified web developer': {'majed alwani': 3},\n",
       " 'data analytics': {'yasmin fares': 4},\n",
       " 'cybersecurity certification': {'zain qasim': 5},\n",
       " 'mobile development certificate': {'maya hasan': 3},\n",
       " 'ethical hacking certification': {'jana khalil': 5},\n",
       " 'front-end development': {'omar nassar': 3, 'nadia fares': 3},\n",
       " 'cybersecurity analyst certification': {'bilal hassan': 5, 'lina jamal': 5},\n",
       " 'data scientist certification': {'ahmed qadri': 4},\n",
       " 'cybersecurity basics': {'dalia hamdan': 5, 'noura tariq': 5},\n",
       " 'microsoft azure fundamentals': {'faris sami': 3, 'naseem khalil': 3},\n",
       " 'machine learning certificate': {'reem fathi': 4},\n",
       " 'software development certificate': {'mariam jaber': 3},\n",
       " 'data analyst certificate': {'majid rashid': 4},\n",
       " 'front-end web development': {'layla qasim': 3},\n",
       " 'data analyst certification': {'omar sayeed': 4},\n",
       " 'network security specialist': {'hana nasser': 5},\n",
       " 'mobile development': {'zaid omar': 3},\n",
       " 'machine learning specialist': {'mona khaled': 4},\n",
       " 'network security certification': {'walid sami': 5},\n",
       " 'machine learning basics': {'rima adnan': 4},\n",
       " 'information security certification': {'omar zaid': 5},\n",
       " 'web development certificate': {'sara matar': 3},\n",
       " 'data analytics specialist': {'ali quraishi': 4},\n",
       " 'cybersecurity fundamentals': {'faten khalil': 5},\n",
       " 'back-end developer': {'omar sami': 3},\n",
       " 'data engineering certification': {'khaled samir': 4},\n",
       " 'ethical hacking': {'reem jamal': 5},\n",
       " 'cloud computing essentials': {'sami qasim': 3},\n",
       " 'web development basics': {'laila hamdan': 3},\n",
       " 'cyber defense certification': {'nisreen fares': 5},\n",
       " 'app development essentials': {'rania omar': 3, 'noor basheer': 3},\n",
       " 'data analysis basics': {'khaled younes': 4},\n",
       " 'javascript for web': {'ibrahim sameer': 3},\n",
       " 'data mining': {'nada tariq': 4},\n",
       " 'network security fundamentals': {'jamal saleh': 5},\n",
       " 'database systems': {'maya khalil': 3},\n",
       " 'data science intro': {'tamer fares': 4},\n",
       " 'cybersecurity essentials': {'dina ziad': 5, 'aya nasir': 5},\n",
       " 'advanced data visualization': {'alaa rami': 4},\n",
       " 'ethical hacking intro': {'reem ahmad': 5},\n",
       " 'back-end development': {'yousef fadi': 3},\n",
       " 'machine learning intro': {'noura adnan': 4},\n",
       " 'network security': {'sami hussein': 5, 'ruba hisham': 5},\n",
       " 'web development intro': {'lina fares': 3, 'reem basim': 3},\n",
       " 'data engineering essentials': {'tareq othman': 4},\n",
       " 'information security basics': {'khadija omar': 5},\n",
       " 'cloud computing basics': {'omar khalid': 3},\n",
       " 'intro to data analysis': {'salma ziad': 4},\n",
       " 'cyber defense essentials': {'fadi rahman': 5},\n",
       " 'cloud fundamentals': {'khalil youssef': 3},\n",
       " 'intro to cryptography': {'hala jamal': 5},\n",
       " 'machine learning advanced': {'saif adnan': 4},\n",
       " 'network security basics': {'omar sami': 5},\n",
       " 'data science professional': {'rana fadel': 4},\n",
       " 'web dev basics': {'mazen kamil': 3},\n",
       " 'data analysis fundamentals': {'farah ziad': 4},\n",
       " 'database management': {'ahmed jamal': 3},\n",
       " 'cyber defense basics': {'leen amr': 5},\n",
       " 'advanced analytics': {'tariq jaber': 4},\n",
       " 'cloud development': {'nadia fawaz': 3},\n",
       " 'cyber defense': {'hussein ali': 5},\n",
       " 'intro to data science': {'sara nabil': 4},\n",
       " 'application development': {'fadi ayman': 3},\n",
       " 'machine learning': {'kareem issam': 4},\n",
       " 'cyber defense specialist': {'yousef wael': 5},\n",
       " 'intro to ai': {'dalia samir': 4},\n",
       " 'database admin basics': {'nabil majed': 3},\n",
       " 'cyber awareness': {'layla mohammed': 5}}"
      ]
     },
     "execution_count": 20,
     "metadata": {},
     "output_type": "execute_result"
    }
   ],
   "source": [
    "cert_student_projects"
   ]
  },
  {
   "cell_type": "markdown",
   "metadata": {},
   "source": [
    "## for one name"
   ]
  },
  {
   "cell_type": "code",
   "execution_count": 10,
   "metadata": {},
   "outputs": [],
   "source": [
    "graph = Graph(kind = \"Directed\")\n"
   ]
  },
  {
   "cell_type": "code",
   "execution_count": 15,
   "metadata": {},
   "outputs": [
    {
     "data": {
      "image/png": "[encoded data removed]",
      "text/plain": [
       "<Figure size 800x600 with 1 Axes>"
      ]
     },
     "metadata": {},
     "output_type": "display_data"
    }
   ],
   "source": [
    "student = \"laila mansour\"\n",
    "\n",
    "student_data = df[df[\"Name\"] == student]\n",
    "\n",
    "student_langs = get_languges(student_data[\"Programming Languages\"].iloc[0])\n",
    "\n",
    "graph.create_graph(student, student_langs, All_language)\n",
    "\n",
    "graph.draw_graph()"
   ]
  },
  {
   "cell_type": "markdown",
   "metadata": {},
   "source": [
    "## Dynamic graph"
   ]
  },
  {
   "cell_type": "code",
   "execution_count": null,
   "metadata": {},
   "outputs": [
    {
     "data": {
      "image/png": "[encoded data removed]",
      "text/plain": [
       "<Figure size 800x600 with 1 Axes>"
      ]
     },
     "metadata": {},
     "output_type": "display_data"
    }
   ],
   "source": [
    "cert = input(\"Please enter the certificate: \").lower().strip()\n",
    "# CompTIA Security+  \n",
    "if cert in All_certificates: \n",
    "        \n",
    "    di_graph = Graph(kind=\"Directed\")\n",
    "    di_graph.create_graph_projects(cert, cert_student_projects) \n",
    "    di_graph.draw_graph()\n",
    "else: \n",
    "    print(\"the certification does not exist\")"
   ]
  },
  {
   "cell_type": "markdown",
   "metadata": {},
   "source": [
    "### Tests"
   ]
  },
  {
   "cell_type": "code",
   "execution_count": 22,
   "metadata": {},
   "outputs": [
    {
     "name": "stdout",
     "output_type": "stream",
     "text": [
      "the certification does not exist\n"
     ]
    }
   ],
   "source": [
    "cert = input(\"Please enter the certificate: \").lower().strip()\n",
    "# GENaI \n",
    "if cert in All_certificates: \n",
    "        \n",
    "    di_graph = Graph(kind=\"Directed\")\n",
    "    di_graph.create_graph_projects(cert, cert_student_projects) \n",
    "    di_graph.draw_graph()\n",
    "else: \n",
    "    print(\"the certification does not exist\")"
   ]
  },
  {
   "cell_type": "markdown",
   "metadata": {},
   "source": [
    "# Clustering"
   ]
  },
  {
   "cell_type": "markdown",
   "metadata": {},
   "source": [
    "### initilize variables"
   ]
  },
  {
   "cell_type": "code",
   "execution_count": 23,
   "metadata": {},
   "outputs": [
    {
     "name": "stdout",
     "output_type": "stream",
     "text": [
      "['Data Science & AI' 'Cybersecurity' 'Computer Science']\n"
     ]
    }
   ],
   "source": [
    "dictCertification = {\n",
    "    \"Computer Science\": [\n",
    "        \"java programming (oracle)\", \"aws certified developer\", \"web development bootcamp (udemy)\",\n",
    "        \"full stack developer certification\", \"oracle java programming certificate\",\n",
    "        \"database management certificate\", \"javascript development certificate\",\n",
    "        \"software engineering certificate\", \"full stack web development certificate (udemy)\",\n",
    "        \"full stack web development certificate\", \"database management (oracle)\",\n",
    "        \"software engineering (udemy)\", \"mobile development (udemy)\",\n",
    "        \"cloud computing certificate (aws)\", \"cloud computing (aws)\",\n",
    "        \"agile development (coursera)\", \"mobile development certificate (udemy)\",\n",
    "        \"web developer bootcamp\", \"full stack developer certificate\",\n",
    "        \"mobile app development certificate (udemy)\", \"front-end development certificate\",\n",
    "        \"full stack web development\", \"mobile app development\", \"full stack development\",\n",
    "        \"mobile development specialist\", \"full stack developer\", \"certified web developer\",\n",
    "        \"front-end development\", \"software development certificate\", \"front-end web development\",\n",
    "        \"web development certificate\", \"back-end developer\", \"web development basics\",\n",
    "        \"app development essentials\", \"javascript for web\", \"web development intro\",\n",
    "        \"application development\", \"database admin basics\"\n",
    "    ],\n",
    "    \n",
    "    \"Cybersecurity\": [\n",
    "        \"comptia security+\", \"ceh\", \"comptia network+\", \"certified ethical hacker (ceh)\",\n",
    "        \"certified information systems security professional (cissp)\", \"network+ certified\",\n",
    "        \"comptia security+ certification\", \"certified information systems auditor (cisa)\",\n",
    "        \"certified information security manager (cism)\", \"comptia security+ (certified)\",\n",
    "        \"network security fundamentals (udemy)\", \"network security certification (cisco)\",\n",
    "        \"network security associate\", \"certified ethical hacker\", \"certified information security manager\",\n",
    "        \"network security certificate\", \"comptia security+ certified\", \"cybersecurity certification\",\n",
    "        \"ethical hacking certification\", \"cybersecurity analyst certification\",\n",
    "        \"cybersecurity basics\", \"network security specialist\", \"network security certification\",\n",
    "        \"information security certification\", \"cybersecurity fundamentals\", \"ethical hacking\",\n",
    "        \"network security fundamentals\", \"database systems\", \"cybersecurity essentials\",\n",
    "        \"ethical hacking intro\", \"network security\", \"information security basics\",\n",
    "        \"cyber defense certification\", \"cyber defense essentials\", \"cyber defense basics\",\n",
    "        \"cyber defense\", \"cyber defense specialist\", \"cyber awareness\"\n",
    "    ],\n",
    "    \n",
    "    \"Data Science & AI\": [\n",
    "        \"data science professional certificate (ibm)\", \"python for data science (coursera)\",\n",
    "        \"google data analytics professional\", \"ai foundations (coursera)\", \n",
    "        \"data science specialization (coursera)\", \"google data analytics certificate\",\n",
    "        \"data science foundations (coursera)\", \"data science certification (coursera)\",\n",
    "        \"data science fundamentals (coursera)\", \"data science certificate (udemy)\",\n",
    "        \"advanced data analytics (udemy)\", \"data science professional certificate\",\n",
    "        \"machine learning specialization (coursera)\", \"deep learning specialization (coursera)\",\n",
    "        \"advanced data science (coursera)\", \"big data specialization (coursera)\",\n",
    "        \"ai for everyone (coursera)\", \"data structures & algorithms (coursera)\",\n",
    "        \"data analysis with python (coursera)\", \"data visualization specialist\",\n",
    "        \"machine learning specialist (coursera)\", \"machine learning advanced (coursera)\",\n",
    "        \"data analysis professional certificate\", \"data scientist certification (coursera)\",\n",
    "        \"data analytics professional\", \"data science foundations\", \"advanced machine learning\",\n",
    "        \"data science specialization\", \"data analytics certification\", \"data science advanced\",\n",
    "        \"data analytics fundamentals\", \"data scientist certification\", \"machine learning certificate\",\n",
    "        \"data analyst certificate\", \"data analyst certification\", \"machine learning specialist\",\n",
    "        \"machine learning basics\", \"data analytics specialist\", \"data engineering certification\",\n",
    "        \"data mining\", \"data science intro\", \"advanced data visualization\", \"machine learning intro\",\n",
    "        \"data engineering essentials\", \"intro to data analysis\", \"machine learning advanced\",\n",
    "        \"data science professional\", \"data analysis fundamentals\", \"advanced analytics\",\n",
    "        \"intro to data science\", \"machine learning\", \"intro to ai\"\n",
    "    ]\n",
    "}\n",
    "\n",
    "\n",
    "temp = {}\n",
    "\n",
    "for category, certs in dictCertification.items():\n",
    "    for cert in certs:\n",
    "        temp[cert] = category\n",
    "\n",
    "df[\"Certifications\"] = df[\"Certifications\"].apply(lambda x: temp.get(x, \"others\"))\n",
    "\n",
    "df = df[df[\"Certifications\"] != \"others\"]\n",
    "print(df[\"Certifications\"].unique())\n"
   ]
  },
  {
   "cell_type": "code",
   "execution_count": 24,
   "metadata": {},
   "outputs": [
    {
     "name": "stdout",
     "output_type": "stream",
     "text": [
      "['Artificial Intelligence & Data Science' 'Tech Competitions & Research'\n",
      " 'Software Development & Programming' 'Leadership & Community Engagement'\n",
      " 'Cybersecurity & Ethical Hacking' 'others' 'Networking & Security']\n"
     ]
    }
   ],
   "source": [
    "dictExtracurricular = {\n",
    "    \"Artificial Intelligence & Data Science\": [\n",
    "        \"ai club mentor\", \"ai club volunteer\", \"data analytics consultant\",\n",
    "        \"data science volunteer\", \"ai research assistant\",\n",
    "        \"data science club member\", \"ai project developer\",\n",
    "        \"data science mentor\", \"data science conference speaker\",\n",
    "        \"data science club president\", \"data science research assistant\",\n",
    "        \"data science enthusiast\", \"data visualization team lead\",\n",
    "        \"data analytics intern\", \"data science society\",\n",
    "        \"data science society leader\", \"data science club\",\n",
    "        \"data visualization society\", \"data science ambassador\",\n",
    "        \"data innovation club leader\", \"data enthusiasts group\",\n",
    "        \"data analysis workshops\", \"data enthusiasts club\",\n",
    "        \"data science for social good\", \"data analytics community\",\n",
    "        \"data science ambassadors\", \"data innovators\",\n",
    "        \"ai and data club\", \"data science and innovation\",\n",
    "        \"data science community\", \"data analysis club\",\n",
    "        \"student data society\", \"data engineering group\",\n",
    "        \"data science collective\", \"data community\",\n",
    "        \"data engineering society\", \"data insights society\",\n",
    "        \"big data club\", \"analytics society\", \"data science network\",\n",
    "        \"data explorers\", \"data analytics society\", \"young data enthusiasts\",\n",
    "        \"innovation lab\", \"ai society\"\n",
    "    ],\n",
    "\n",
    "    \"Cybersecurity & Ethical Hacking\": [\n",
    "        \"cybersecurity competition participant\", \"digital security researcher\",\n",
    "        \"cybersecurity awareness speaker\", \"cybersecurity blog writer\",\n",
    "        \"cybersecurity awareness advocate\", \"volunteer for cybersecurity workshops\",\n",
    "        \"cybersecurity lab assistant\", \"security consultant\",\n",
    "        \"security analyst\", \"cybersecurity awareness campaign volunteer\",\n",
    "        \"cyber security blog contributor\", \"cyber security competitor\",\n",
    "        \"cybersecurity awareness campaign leader\", \"security operations center intern\",\n",
    "        \"cybersecurity researcher\", \"cybersecurity consultant\",\n",
    "        \"cybersecurity intern\", \"cybersecurity team leader\",\n",
    "        \"cybersecurity analyst intern\", \"network security intern\",\n",
    "        \"security awareness advocate\", \"ethical hacking club member\",\n",
    "        \"ethical hacker\", \"network security group leader\",\n",
    "        \"cybersecurity awareness club\", \"cyber defense team\",\n",
    "        \"cybersecurity research club\", \"security awareness initiative\",\n",
    "        \"cybersecurity advocacy group\", \"cyber defense club\",\n",
    "        \"women in cybersecurity\", \"network security association\",\n",
    "        \"cybersecurity awareness program\", \"cybersecurity club\",\n",
    "        \"cybersecurity network\", \"women in security\",\n",
    "        \"cybersecurity society\", \"network security team\",\n",
    "        \"network security society\", \"cybersecurity forum\",\n",
    "        \"security club\", \"security alliance\", \"cyber protection group\",\n",
    "        \"young cyber enthusiasts\"\n",
    "    ],\n",
    "\n",
    "    \"Software Development & Programming\": [\n",
    "        \"peer programming tutor\", \"volunteer tutor\", \"volunteer developer\",\n",
    "        \"peer tutor\", \"web development mentor\", \"app development club member\",\n",
    "        \"web development project leader\", \"app developer\",\n",
    "        \"software engineering club\", \"software development intern\",\n",
    "        \"developer student club\", \"student coding society\",\n",
    "        \"app development society\", \"developer network\",\n",
    "        \"student dev group\", \"code club\", \"student developer alliance\",\n",
    "        \"developer network\", \"student developers club\", \"code4change\",\n",
    "        \"student programmer club\"\n",
    "    ],\n",
    "\n",
    "    \"Networking & Security\": [\n",
    "        \"network security intern\", \"security operations center intern\",\n",
    "        \"network security group leader\", \"network security team\",\n",
    "        \"network security specialist\", \"network security association\",\n",
    "        \"network security society\", \"network security basics\",\n",
    "        \"database club\", \"network security forum\"\n",
    "    ],\n",
    "\n",
    "    \"Leadership & Community Engagement\": [\n",
    "        \"student government member\", \"tech community member\",\n",
    "        \"tech talk speaker\", \"peer mentor\", \"tech workshop leader\",\n",
    "        \"tech meetups attendee\", \"tech event volunteer\",\n",
    "        \"tech outreach program\", \"women in tech club\", \"women in computing\",\n",
    "        \"women in tech\", \"women in tech security\", \"tech women\",\n",
    "        \"tech community\", \"student council member\", \"student council\",\n",
    "        \"student mentor\"\n",
    "    ],\n",
    "\n",
    "    \"Tech Competitions & Research\": [\n",
    "        \"hackathon participant\", \"tech conference organizer\",\n",
    "        \"research assistant\", \"hackathon organizer\",\n",
    "        \"tech conference speaker\", \"cybersecurity competition participant\",\n",
    "        \"security researcher\", \"programming contest participant\",\n",
    "        \"hackathon winner\", \"ai research lab assistant\",\n",
    "        \"cybersecurity competition participant\", \"tech innovators\",\n",
    "        \"game development club\"\n",
    "    ]\n",
    "}\n",
    "\n",
    "temp = {}\n",
    "\n",
    "for category, activities in dictExtracurricular.items():\n",
    "    for activity in activities:\n",
    "        temp[activity] = category\n",
    "\n",
    "df[\"Extracurricular Activities\"] = df[\"Extracurricular Activities\"].apply(lambda x: temp.get(x, \"others\"))\n",
    "\n",
    "\n",
    "df = df[df[\"Certifications\"] != \"others\"]\n",
    "print(df[\"Extracurricular Activities\"].unique())\n"
   ]
  },
  {
   "cell_type": "code",
   "execution_count": 13,
   "metadata": {},
   "outputs": [
    {
     "data": {
      "text/html": [
       "<div>\n",
       "<style scoped>\n",
       "    .dataframe tbody tr th:only-of-type {\n",
       "        vertical-align: middle;\n",
       "    }\n",
       "\n",
       "    .dataframe tbody tr th {\n",
       "        vertical-align: top;\n",
       "    }\n",
       "\n",
       "    .dataframe thead th {\n",
       "        text-align: right;\n",
       "    }\n",
       "</style>\n",
       "<table border=\"1\" class=\"dataframe\">\n",
       "  <thead>\n",
       "    <tr style=\"text-align: right;\">\n",
       "      <th></th>\n",
       "      <th>Name</th>\n",
       "      <th>Year</th>\n",
       "      <th>Programming Languages</th>\n",
       "      <th>Certifications</th>\n",
       "      <th>Project Count</th>\n",
       "      <th>Extracurricular Activities</th>\n",
       "      <th>Career Interest</th>\n",
       "      <th>Bio</th>\n",
       "      <th>Cluster</th>\n",
       "    </tr>\n",
       "  </thead>\n",
       "  <tbody>\n",
       "    <tr>\n",
       "      <th>0</th>\n",
       "      <td>laila mansour</td>\n",
       "      <td>2</td>\n",
       "      <td>python; r; sql</td>\n",
       "      <td>Data Science &amp; AI</td>\n",
       "      <td>4</td>\n",
       "      <td>Artificial Intelligence &amp; Data Science</td>\n",
       "      <td>Data Scientist</td>\n",
       "      <td>laila has always been fascinated by the patter...</td>\n",
       "      <td>1</td>\n",
       "    </tr>\n",
       "    <tr>\n",
       "      <th>1</th>\n",
       "      <td>omar al-hassan</td>\n",
       "      <td>4</td>\n",
       "      <td>java; c++; html</td>\n",
       "      <td>Cybersecurity</td>\n",
       "      <td>5</td>\n",
       "      <td>Tech Competitions &amp; Research</td>\n",
       "      <td>Cybersecurity Analyst</td>\n",
       "      <td>a forth-year student at princess sumaya univer...</td>\n",
       "      <td>2</td>\n",
       "    </tr>\n",
       "    <tr>\n",
       "      <th>2</th>\n",
       "      <td>rania khoury</td>\n",
       "      <td>1</td>\n",
       "      <td>c; python; javascript</td>\n",
       "      <td>Computer Science</td>\n",
       "      <td>3</td>\n",
       "      <td>Software Development &amp; Programming</td>\n",
       "      <td>Software Developer</td>\n",
       "      <td>rania entered the university of jordan's compu...</td>\n",
       "      <td>0</td>\n",
       "    </tr>\n",
       "    <tr>\n",
       "      <th>3</th>\n",
       "      <td>khaled abbas</td>\n",
       "      <td>2</td>\n",
       "      <td>sql; python; r</td>\n",
       "      <td>Data Science &amp; AI</td>\n",
       "      <td>4</td>\n",
       "      <td>Software Development &amp; Programming</td>\n",
       "      <td>Data Scientist</td>\n",
       "      <td>khaled has a knack for translating data into m...</td>\n",
       "      <td>1</td>\n",
       "    </tr>\n",
       "    <tr>\n",
       "      <th>4</th>\n",
       "      <td>nour husseini</td>\n",
       "      <td>3</td>\n",
       "      <td>python; java; sql</td>\n",
       "      <td>Cybersecurity</td>\n",
       "      <td>5</td>\n",
       "      <td>Leadership &amp; Community Engagement</td>\n",
       "      <td>Cybersecurity Analyst</td>\n",
       "      <td>in her third year at petra university, nour is...</td>\n",
       "      <td>2</td>\n",
       "    </tr>\n",
       "  </tbody>\n",
       "</table>\n",
       "</div>"
      ],
      "text/plain": [
       "             Name  Year  Programming Languages     Certifications  \\\n",
       "0   laila mansour     2         python; r; sql  Data Science & AI   \n",
       "1  omar al-hassan     4        java; c++; html      Cybersecurity   \n",
       "2    rania khoury     1  c; python; javascript   Computer Science   \n",
       "3    khaled abbas     2         sql; python; r  Data Science & AI   \n",
       "4   nour husseini     3      python; java; sql      Cybersecurity   \n",
       "\n",
       "   Project Count              Extracurricular Activities  \\\n",
       "0              4  Artificial Intelligence & Data Science   \n",
       "1              5            Tech Competitions & Research   \n",
       "2              3      Software Development & Programming   \n",
       "3              4      Software Development & Programming   \n",
       "4              5       Leadership & Community Engagement   \n",
       "\n",
       "         Career Interest                                                Bio  \\\n",
       "0         Data Scientist  laila has always been fascinated by the patter...   \n",
       "1  Cybersecurity Analyst  a forth-year student at princess sumaya univer...   \n",
       "2     Software Developer  rania entered the university of jordan's compu...   \n",
       "3         Data Scientist  khaled has a knack for translating data into m...   \n",
       "4  Cybersecurity Analyst  in her third year at petra university, nour is...   \n",
       "\n",
       "   Cluster  \n",
       "0        1  \n",
       "1        2  \n",
       "2        0  \n",
       "3        1  \n",
       "4        2  "
      ]
     },
     "execution_count": 13,
     "metadata": {},
     "output_type": "execute_result"
    }
   ],
   "source": [
    "df.head()"
   ]
  },
  {
   "cell_type": "markdown",
   "metadata": {},
   "source": [
    "### Code"
   ]
  },
  {
   "cell_type": "code",
   "execution_count": 42,
   "metadata": {},
   "outputs": [
    {
     "data": {
      "text/plain": [
       "<module 'modules.clustering' from 'd:\\\\HTU\\\\DataMining\\\\Assignment\\\\technical\\\\modules\\\\clustering.py'>"
      ]
     },
     "execution_count": 42,
     "metadata": {},
     "output_type": "execute_result"
    }
   ],
   "source": [
    "importlib.reload(modules.clustering)\n"
   ]
  },
  {
   "cell_type": "code",
   "execution_count": 45,
   "metadata": {},
   "outputs": [
    {
     "name": "stderr",
     "output_type": "stream",
     "text": [
      "c:\\Users\\moham\\AppData\\Local\\Programs\\Python\\Python312\\Lib\\site-packages\\sklearn_extra\\cluster\\_k_medoids.py:329: UserWarning: Cluster 1 is empty! self.labels_[self.medoid_indices_[1]] may not be labeled with its corresponding cluster (1).\n",
      "  warnings.warn(\n",
      "c:\\Users\\moham\\AppData\\Local\\Programs\\Python\\Python312\\Lib\\site-packages\\sklearn_extra\\cluster\\_k_medoids.py:329: UserWarning: Cluster 2 is empty! self.labels_[self.medoid_indices_[2]] may not be labeled with its corresponding cluster (2).\n",
      "  warnings.warn(\n"
     ]
    },
    {
     "data": {
      "image/png": "[encoded data removed]",
      "text/plain": [
       "<Figure size 1500x600 with 3 Axes>"
      ]
     },
     "metadata": {},
     "output_type": "display_data"
    }
   ],
   "source": [
    "from modules.clustering import Clustering\n",
    "from modules import util\n",
    "analyzer = Clustering(df)\n",
    "results = analyzer.run_analysis()\n",
    "analyzer.visualize_comparison()\n"
   ]
  },
  {
   "cell_type": "code",
   "execution_count": 46,
   "metadata": {},
   "outputs": [
    {
     "name": "stderr",
     "output_type": "stream",
     "text": [
      "c:\\Users\\moham\\AppData\\Local\\Programs\\Python\\Python312\\Lib\\site-packages\\sklearn_extra\\cluster\\_k_medoids.py:329: UserWarning: Cluster 1 is empty! self.labels_[self.medoid_indices_[1]] may not be labeled with its corresponding cluster (1).\n",
      "  warnings.warn(\n",
      "c:\\Users\\moham\\AppData\\Local\\Programs\\Python\\Python312\\Lib\\site-packages\\sklearn_extra\\cluster\\_k_medoids.py:329: UserWarning: Cluster 2 is empty! self.labels_[self.medoid_indices_[2]] may not be labeled with its corresponding cluster (2).\n",
      "  warnings.warn(\n",
      "c:\\Users\\moham\\AppData\\Local\\Programs\\Python\\Python312\\Lib\\site-packages\\sklearn_extra\\cluster\\_k_medoids.py:329: UserWarning: Cluster 1 is empty! self.labels_[self.medoid_indices_[1]] may not be labeled with its corresponding cluster (1).\n",
      "  warnings.warn(\n",
      "c:\\Users\\moham\\AppData\\Local\\Programs\\Python\\Python312\\Lib\\site-packages\\sklearn_extra\\cluster\\_k_medoids.py:329: UserWarning: Cluster 2 is empty! self.labels_[self.medoid_indices_[2]] may not be labeled with its corresponding cluster (2).\n",
      "  warnings.warn(\n",
      "c:\\Users\\moham\\AppData\\Local\\Programs\\Python\\Python312\\Lib\\site-packages\\sklearn_extra\\cluster\\_k_medoids.py:329: UserWarning: Cluster 1 is empty! self.labels_[self.medoid_indices_[1]] may not be labeled with its corresponding cluster (1).\n",
      "  warnings.warn(\n",
      "c:\\Users\\moham\\AppData\\Local\\Programs\\Python\\Python312\\Lib\\site-packages\\sklearn_extra\\cluster\\_k_medoids.py:329: UserWarning: Cluster 2 is empty! self.labels_[self.medoid_indices_[2]] may not be labeled with its corresponding cluster (2).\n",
      "  warnings.warn(\n",
      "c:\\Users\\moham\\AppData\\Local\\Programs\\Python\\Python312\\Lib\\site-packages\\sklearn_extra\\cluster\\_k_medoids.py:329: UserWarning: Cluster 1 is empty! self.labels_[self.medoid_indices_[1]] may not be labeled with its corresponding cluster (1).\n",
      "  warnings.warn(\n",
      "c:\\Users\\moham\\AppData\\Local\\Programs\\Python\\Python312\\Lib\\site-packages\\sklearn_extra\\cluster\\_k_medoids.py:329: UserWarning: Cluster 2 is empty! self.labels_[self.medoid_indices_[2]] may not be labeled with its corresponding cluster (2).\n",
      "  warnings.warn(\n",
      "c:\\Users\\moham\\AppData\\Local\\Programs\\Python\\Python312\\Lib\\site-packages\\sklearn_extra\\cluster\\_k_medoids.py:329: UserWarning: Cluster 1 is empty! self.labels_[self.medoid_indices_[1]] may not be labeled with its corresponding cluster (1).\n",
      "  warnings.warn(\n",
      "c:\\Users\\moham\\AppData\\Local\\Programs\\Python\\Python312\\Lib\\site-packages\\sklearn_extra\\cluster\\_k_medoids.py:329: UserWarning: Cluster 2 is empty! self.labels_[self.medoid_indices_[2]] may not be labeled with its corresponding cluster (2).\n",
      "  warnings.warn(\n",
      "c:\\Users\\moham\\AppData\\Local\\Programs\\Python\\Python312\\Lib\\site-packages\\sklearn_extra\\cluster\\_k_medoids.py:329: UserWarning: Cluster 1 is empty! self.labels_[self.medoid_indices_[1]] may not be labeled with its corresponding cluster (1).\n",
      "  warnings.warn(\n",
      "c:\\Users\\moham\\AppData\\Local\\Programs\\Python\\Python312\\Lib\\site-packages\\sklearn_extra\\cluster\\_k_medoids.py:329: UserWarning: Cluster 2 is empty! self.labels_[self.medoid_indices_[2]] may not be labeled with its corresponding cluster (2).\n",
      "  warnings.warn(\n",
      "c:\\Users\\moham\\AppData\\Local\\Programs\\Python\\Python312\\Lib\\site-packages\\sklearn_extra\\cluster\\_k_medoids.py:329: UserWarning: Cluster 1 is empty! self.labels_[self.medoid_indices_[1]] may not be labeled with its corresponding cluster (1).\n",
      "  warnings.warn(\n",
      "c:\\Users\\moham\\AppData\\Local\\Programs\\Python\\Python312\\Lib\\site-packages\\sklearn_extra\\cluster\\_k_medoids.py:329: UserWarning: Cluster 2 is empty! self.labels_[self.medoid_indices_[2]] may not be labeled with its corresponding cluster (2).\n",
      "  warnings.warn(\n",
      "c:\\Users\\moham\\AppData\\Local\\Programs\\Python\\Python312\\Lib\\site-packages\\sklearn_extra\\cluster\\_k_medoids.py:329: UserWarning: Cluster 1 is empty! self.labels_[self.medoid_indices_[1]] may not be labeled with its corresponding cluster (1).\n",
      "  warnings.warn(\n",
      "c:\\Users\\moham\\AppData\\Local\\Programs\\Python\\Python312\\Lib\\site-packages\\sklearn_extra\\cluster\\_k_medoids.py:329: UserWarning: Cluster 2 is empty! self.labels_[self.medoid_indices_[2]] may not be labeled with its corresponding cluster (2).\n",
      "  warnings.warn(\n",
      "c:\\Users\\moham\\AppData\\Local\\Programs\\Python\\Python312\\Lib\\site-packages\\sklearn_extra\\cluster\\_k_medoids.py:329: UserWarning: Cluster 1 is empty! self.labels_[self.medoid_indices_[1]] may not be labeled with its corresponding cluster (1).\n",
      "  warnings.warn(\n",
      "c:\\Users\\moham\\AppData\\Local\\Programs\\Python\\Python312\\Lib\\site-packages\\sklearn_extra\\cluster\\_k_medoids.py:329: UserWarning: Cluster 2 is empty! self.labels_[self.medoid_indices_[2]] may not be labeled with its corresponding cluster (2).\n",
      "  warnings.warn(\n",
      "c:\\Users\\moham\\AppData\\Local\\Programs\\Python\\Python312\\Lib\\site-packages\\sklearn_extra\\cluster\\_k_medoids.py:329: UserWarning: Cluster 1 is empty! self.labels_[self.medoid_indices_[1]] may not be labeled with its corresponding cluster (1).\n",
      "  warnings.warn(\n",
      "c:\\Users\\moham\\AppData\\Local\\Programs\\Python\\Python312\\Lib\\site-packages\\sklearn_extra\\cluster\\_k_medoids.py:329: UserWarning: Cluster 2 is empty! self.labels_[self.medoid_indices_[2]] may not be labeled with its corresponding cluster (2).\n",
      "  warnings.warn(\n"
     ]
    },
    {
     "data": {
      "image/png": "[encoded data removed]",
      "text/plain": [
       "<Figure size 800x500 with 1 Axes>"
      ]
     },
     "metadata": {},
     "output_type": "display_data"
    }
   ],
   "source": [
    "import pandas as pd\n",
    "import seaborn as sns\n",
    "import matplotlib.pyplot as plt\n",
    "\n",
    "from modules.clustering import Clustering\n",
    "N_RUNS = 10  \n",
    "sil_data = []  \n",
    "\n",
    "for _ in range(N_RUNS):\n",
    "    analyzer = Clustering(df)\n",
    "    results = analyzer.run_analysis()  \n",
    "\n",
    "    for method, reductions_dict in results.items():\n",
    "        for reduction, metrics_dict in reductions_dict.items():\n",
    "            if metrics_dict is not None:\n",
    "                sil_data.append({\n",
    "                    \"Method\": method,\n",
    "                    \"Reduction\": reduction,\n",
    "                    \"Silhouette\": metrics_dict[\"Silhouette\"]\n",
    "                })\n",
    "\n",
    "sil_df = pd.DataFrame(sil_data)\n",
    "\n",
    "plt.figure(figsize=(8, 5))\n",
    "sns.boxplot(data=sil_df, x=\"Method\", y=\"Silhouette\", hue=\"Reduction\")\n",
    "plt.title(\"Silhouette Scores Across Multiple Runs\")\n",
    "plt.show()\n"
   ]
  }
 ],
 "metadata": {
  "kernelspec": {
   "display_name": "Python 3",
   "language": "python",
   "name": "python3"
  },
  "language_info": {
   "codemirror_mode": {
    "name": "ipython",
    "version": 3
   },
   "file_extension": ".py",
   "mimetype": "text/x-python",
   "name": "python",
   "nbconvert_exporter": "python",
   "pygments_lexer": "ipython3",
   "version": "3.12.4"
  }
 },
 "nbformat": 4,
 "nbformat_minor": 2
}
